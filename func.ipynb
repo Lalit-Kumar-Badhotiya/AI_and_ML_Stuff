{
 "cells": [
  {
   "cell_type": "code",
   "execution_count": 6,
   "id": "6ff92da0-df09-4016-817a-63a3f9c304d5",
   "metadata": {},
   "outputs": [
    {
     "name": "stdout",
     "output_type": "stream",
     "text": [
      "[[[2, 3, 4], [3, 4, 5], [6, 7, 8]], [[2, 3, 4], [3, 4, 5], [6, 7, 8]], [[2, 3, 4], [3, 4, 5], [6, 7, 8]]]\n",
      "[[2, 3, 4], [3, 4, 5], [6, 7, 8]]\n"
     ]
    }
   ],
   "source": [
    "l1= [2,3,4]\n",
    "l2=[3,4,5]\n",
    "l3=[6,7,8]\n",
    "l2d=[l1,l2,l3]\n",
    "l2dd=[l1,l2,l3]\n",
    "l2ddd=[l1,l2,l3]\n",
    "l3d=[l2d,l2dd,l2ddd]\n",
    "print(l3d)\n",
    "print(l2d)"
   ]
  },
  {
   "cell_type": "code",
   "execution_count": null,
   "id": "96076d10-a584-4282-9677-5dd216104ee9",
   "metadata": {},
   "outputs": [],
   "source": []
  }
 ],
 "metadata": {
  "kernelspec": {
   "display_name": "Python [conda env:base] *",
   "language": "python",
   "name": "conda-base-py"
  },
  "language_info": {
   "codemirror_mode": {
    "name": "ipython",
    "version": 3
   },
   "file_extension": ".py",
   "mimetype": "text/x-python",
   "name": "python",
   "nbconvert_exporter": "python",
   "pygments_lexer": "ipython3",
   "version": "3.12.7"
  }
 },
 "nbformat": 4,
 "nbformat_minor": 5
}
