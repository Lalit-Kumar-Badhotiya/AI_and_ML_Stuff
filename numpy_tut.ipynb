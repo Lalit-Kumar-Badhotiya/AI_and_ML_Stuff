{
 "cells": [
  {
   "cell_type": "code",
   "execution_count": 1,
   "id": "f9d00f38-3d61-4bcf-a145-b55b7f12f15a",
   "metadata": {},
   "outputs": [],
   "source": [
    "import numpy as np"
   ]
  },
  {
   "cell_type": "code",
   "execution_count": 10,
   "id": "f46c7b03-31d0-4b41-9afb-a2ea269e5b6b",
   "metadata": {},
   "outputs": [
    {
     "name": "stdout",
     "output_type": "stream",
     "text": [
      "4\n",
      "8\n",
      "12\n",
      "16\n",
      "20\n",
      "24\n",
      "28\n",
      "32\n",
      "36\n",
      "40\n",
      "44\n",
      "48\n",
      "52\n",
      "56\n",
      "60\n",
      "64\n",
      "68\n",
      "72\n",
      "76\n",
      "80\n",
      "84\n",
      "88\n",
      "92\n",
      "96\n",
      "100\n"
     ]
    }
   ],
   "source": [
    "for i in range(4,101,4):\n",
    "    print(i)"
   ]
  },
  {
   "cell_type": "code",
   "execution_count": null,
   "id": "cf119f69-3a29-45b9-8ea0-948eecda431f",
   "metadata": {},
   "outputs": [],
   "source": []
  },
  {
   "cell_type": "code",
   "execution_count": 17,
   "id": "98bd53ec-7905-4a38-a9da-d2cd2166311c",
   "metadata": {},
   "outputs": [],
   "source": [
    "arr = [i in range(4,101,4)]\n"
   ]
  },
  {
   "cell_type": "code",
   "execution_count": 19,
   "id": "77ba7f3c-0253-48d5-8d19-984f846574db",
   "metadata": {},
   "outputs": [
    {
     "data": {
      "text/plain": [
       "[True]"
      ]
     },
     "execution_count": 19,
     "metadata": {},
     "output_type": "execute_result"
    }
   ],
   "source": []
  },
  {
   "cell_type": "code",
   "execution_count": 25,
   "id": "c7f6393d-8a09-4522-aff7-1e1e01aa16d3",
   "metadata": {},
   "outputs": [
    {
     "data": {
      "text/plain": [
       "array([[0., 0., 0.],\n",
       "       [0., 0., 0.]])"
      ]
     },
     "execution_count": 25,
     "metadata": {},
     "output_type": "execute_result"
    }
   ],
   "source": [
    "np.zeros([2,3])\n"
   ]
  },
  {
   "cell_type": "code",
   "execution_count": 33,
   "id": "2f597df7-369d-4d21-bd67-f504b88e3e5b",
   "metadata": {
    "scrolled": true
   },
   "outputs": [
    {
     "data": {
      "text/plain": [
       "array([[[13.69361982, 13.71440177, 13.13138775],\n",
       "        [19.80662294, 12.45625065, 13.39614611],\n",
       "        [10.95732788, 15.71234613, 17.63077144]],\n",
       "\n",
       "       [[12.43448616, 16.5247318 , 19.65146286],\n",
       "        [10.02456228, 15.36398996, 15.00012487],\n",
       "        [11.40982541, 13.12728342, 18.65284052]]])"
      ]
     },
     "execution_count": 33,
     "metadata": {},
     "output_type": "execute_result"
    }
   ],
   "source": [
    "np.random.rand(2,3,3)*10+10\n"
   ]
  },
  {
   "cell_type": "code",
   "execution_count": 39,
   "id": "3add60a0-70ff-447d-b267-d791ad65bb34",
   "metadata": {},
   "outputs": [
    {
     "data": {
      "text/plain": [
       "13"
      ]
     },
     "execution_count": 39,
     "metadata": {},
     "output_type": "execute_result"
    }
   ],
   "source": [
    "np.random.randint(10,22)"
   ]
  },
  {
   "cell_type": "code",
   "execution_count": 49,
   "id": "5d24f580-cb51-4d10-830b-0331541fe53d",
   "metadata": {},
   "outputs": [],
   "source": [
    "a = [1,2,4,5,6,7,8,9,3]"
   ]
  },
  {
   "cell_type": "code",
   "execution_count": 53,
   "id": "92eab06b-0f05-45ab-8e3e-def669c45f6f",
   "metadata": {},
   "outputs": [],
   "source": [
    "arr = np.array([1, 2, 3, 4, 5, 6, 7, 8, 9, 10, 11, 12])\n",
    "\n",
    "newarr = arr.reshape(4, 3)"
   ]
  },
  {
   "cell_type": "code",
   "execution_count": 55,
   "id": "d83fb234-b08b-40ce-917e-058f4183afd8",
   "metadata": {},
   "outputs": [
    {
     "data": {
      "text/plain": [
       "array([[ 1,  2,  3],\n",
       "       [ 4,  5,  6],\n",
       "       [ 7,  8,  9],\n",
       "       [10, 11, 12]])"
      ]
     },
     "execution_count": 55,
     "metadata": {},
     "output_type": "execute_result"
    }
   ],
   "source": [
    "newarr"
   ]
  },
  {
   "cell_type": "code",
   "execution_count": 57,
   "id": "b870bd42-a283-4c99-b2f1-6c12fb3bb72d",
   "metadata": {},
   "outputs": [
    {
     "ename": "SyntaxError",
     "evalue": "invalid syntax (3571819755.py, line 1)",
     "output_type": "error",
     "traceback": [
      "\u001b[1;36m  Cell \u001b[1;32mIn[57], line 1\u001b[1;36m\u001b[0m\n\u001b[1;33m    arr2 = np.array(for i in range(1,101,1))\u001b[0m\n\u001b[1;37m                    ^\u001b[0m\n\u001b[1;31mSyntaxError\u001b[0m\u001b[1;31m:\u001b[0m invalid syntax\n"
     ]
    }
   ],
   "source": [
    "arr2 = np.array(for i in range(1,101,1))"
   ]
  },
  {
   "cell_type": "code",
   "execution_count": 61,
   "id": "f3aae0bc-9c7f-4f93-8b92-40daf19ee06c",
   "metadata": {},
   "outputs": [
    {
     "name": "stdout",
     "output_type": "stream",
     "text": [
      "[[[49.62213436  2.63235701 65.27698835 97.15408704]\n",
      "  [46.19492126 21.97079983  1.78148195  1.75623385]\n",
      "  [65.96042987 57.01819726 96.49736294  4.82328724]\n",
      "  [56.82958627 21.19893618  2.59024511 75.8598309 ]\n",
      "  [ 0.35049    80.20193695 49.08718591 65.22737818]]\n",
      "\n",
      " [[71.76635309 35.24031793 81.20922725  2.58841733]\n",
      "  [99.89502852 28.06388036 37.14606824 10.74873715]\n",
      "  [76.2521465  94.71437227 96.65030189 78.53720825]\n",
      "  [78.63962297  6.30351225 32.27496339 34.50176673]\n",
      "  [95.617223   64.78840801 24.69914714 20.9266125 ]]\n",
      "\n",
      " [[85.92793619 70.99909524 45.81571344 18.43936522]\n",
      "  [60.37114161 51.05792253 46.90452324 61.89916982]\n",
      "  [ 1.7456777  59.37244026 95.91136538 29.10130392]\n",
      "  [21.42531817 53.36701686  0.95479517 86.34882638]\n",
      "  [83.08961069 49.03983354  2.97050131 28.22069052]]\n",
      "\n",
      " [[38.9282029  94.64775255 29.12715731 53.59380241]\n",
      "  [69.46844631 91.36606244 26.53800165 13.99733694]\n",
      "  [15.60416213 40.26419563 37.81960235 89.10564503]\n",
      "  [81.66994462 48.6384306  96.56678326 65.64750484]\n",
      "  [45.37163516 38.15300947 36.39818481 80.87988538]]\n",
      "\n",
      " [[80.69656601 10.38726528 46.61129138 47.36459396]\n",
      "  [ 8.31380645 88.20085337 51.40783017 10.5841439 ]\n",
      "  [78.32061995 38.8878183  51.4651397  16.7972638 ]\n",
      "  [56.78056925 87.94478264 56.16671305 45.2543023 ]\n",
      "  [57.22477723  9.11667975 48.18168843 20.82795349]]]\n"
     ]
    }
   ],
   "source": [
    "array_3d = np.random.rand(5, 5, 4)*100\n",
    "\n",
    "print(array_3d)\n"
   ]
  },
  {
   "cell_type": "code",
   "execution_count": 77,
   "id": "44193aac-39ce-49a9-bf8f-5f3b602caaa3",
   "metadata": {},
   "outputs": [],
   "source": [
    "arr = np.array([20,30,40,50,60,708,0])"
   ]
  },
  {
   "cell_type": "code",
   "execution_count": 65,
   "id": "638d5225-4902-4dbf-83d1-daaa04a92e18",
   "metadata": {},
   "outputs": [
    {
     "data": {
      "text/plain": [
       "array([ 20,  30,  40,  50,  60, 708,   0])"
      ]
     },
     "execution_count": 65,
     "metadata": {},
     "output_type": "execute_result"
    }
   ],
   "source": [
    "arr"
   ]
  },
  {
   "cell_type": "code",
   "execution_count": 67,
   "id": "5d1a95c8-1cbb-47fe-a130-66f89b878e0d",
   "metadata": {},
   "outputs": [],
   "source": [
    "arr2 = np.array([50,60,70,500,600,700,0])"
   ]
  },
  {
   "cell_type": "code",
   "execution_count": 69,
   "id": "d0de024e-61db-40a5-a8e3-c600bb5f8979",
   "metadata": {},
   "outputs": [],
   "source": [
    "arr3 = arr+arr2"
   ]
  },
  {
   "cell_type": "code",
   "execution_count": 71,
   "id": "b69d73a6-4931-47af-bcfd-2005a51251cc",
   "metadata": {},
   "outputs": [
    {
     "data": {
      "text/plain": [
       "array([  70,   90,  110,  550,  660, 1408,    0])"
      ]
     },
     "execution_count": 71,
     "metadata": {},
     "output_type": "execute_result"
    }
   ],
   "source": [
    "arr3"
   ]
  },
  {
   "cell_type": "code",
   "execution_count": 73,
   "id": "9d567e10-c5ec-4cba-8be8-b596cc6f3305",
   "metadata": {},
   "outputs": [],
   "source": [
    "arr3x = (arr3*2)+3"
   ]
  },
  {
   "cell_type": "code",
   "execution_count": 75,
   "id": "1c92228a-7caa-48d4-9a61-f94ae09d0830",
   "metadata": {},
   "outputs": [
    {
     "data": {
      "text/plain": [
       "array([ 143,  183,  223, 1103, 1323, 2819,    3])"
      ]
     },
     "execution_count": 75,
     "metadata": {},
     "output_type": "execute_result"
    }
   ],
   "source": [
    "arr3x"
   ]
  },
  {
   "cell_type": "code",
   "execution_count": 79,
   "id": "43b3f7b9-bacb-49c6-90ed-718795659315",
   "metadata": {},
   "outputs": [
    {
     "name": "stdout",
     "output_type": "stream",
     "text": [
      "1.26.4\n"
     ]
    }
   ],
   "source": [
    "print(np.__version__)"
   ]
  },
  {
   "cell_type": "code",
   "execution_count": 81,
   "id": "cfa4b016-9505-41b7-ac27-a33256ca80b0",
   "metadata": {},
   "outputs": [],
   "source": [
    "import pandas as pd"
   ]
  },
  {
   "cell_type": "code",
   "execution_count": 87,
   "id": "dfd2d438-9d40-42a8-9501-bf2f3fcbbddd",
   "metadata": {},
   "outputs": [
    {
     "data": {
      "text/plain": [
       "A    20\n",
       "B    30\n",
       "C    40\n",
       "D    50\n",
       "E    60\n",
       "dtype: int64"
      ]
     },
     "execution_count": 87,
     "metadata": {},
     "output_type": "execute_result"
    }
   ],
   "source": [
    "l = [20,30,40,50,60]\n",
    "pd.Series(l,index=['A','B','C','D','E'])"
   ]
  },
  {
   "cell_type": "code",
   "execution_count": 97,
   "id": "4c09a590-c0d5-4800-bee0-d98457750366",
   "metadata": {},
   "outputs": [
    {
     "name": "stdout",
     "output_type": "stream",
     "text": [
      "         Phy  chem  Math\n",
      "aman      90    50    70\n",
      "ram       97    60    80\n",
      "rahul     98    70    90\n",
      "krishna   99    80    99\n"
     ]
    }
   ],
   "source": [
    "data = {'Phy':[90, 97, 98, 99],\n",
    "       'chem':[50,60,70,80],\n",
    "       'Math':[70,80,90,99]}\n",
    "df = pd.DataFrame(data,index=['aman','ram','rahul','krishna'])\n",
    " \n",
    "print(df)\n"
   ]
  },
  {
   "cell_type": "code",
   "execution_count": 109,
   "id": "7685bef8-621e-4c94-82d3-566f86f2e6d0",
   "metadata": {},
   "outputs": [
    {
     "data": {
      "text/html": [
       "<div>\n",
       "<style scoped>\n",
       "    .dataframe tbody tr th:only-of-type {\n",
       "        vertical-align: middle;\n",
       "    }\n",
       "\n",
       "    .dataframe tbody tr th {\n",
       "        vertical-align: top;\n",
       "    }\n",
       "\n",
       "    .dataframe thead th {\n",
       "        text-align: right;\n",
       "    }\n",
       "</style>\n",
       "<table border=\"1\" class=\"dataframe\">\n",
       "  <thead>\n",
       "    <tr style=\"text-align: right;\">\n",
       "      <th></th>\n",
       "      <th>Phy</th>\n",
       "      <th>chem</th>\n",
       "      <th>Math</th>\n",
       "    </tr>\n",
       "  </thead>\n",
       "  <tbody>\n",
       "    <tr>\n",
       "      <th>aman</th>\n",
       "      <td>90</td>\n",
       "      <td>50</td>\n",
       "      <td>70</td>\n",
       "    </tr>\n",
       "    <tr>\n",
       "      <th>ram</th>\n",
       "      <td>97</td>\n",
       "      <td>60</td>\n",
       "      <td>80</td>\n",
       "    </tr>\n",
       "    <tr>\n",
       "      <th>rahul</th>\n",
       "      <td>98</td>\n",
       "      <td>70</td>\n",
       "      <td>90</td>\n",
       "    </tr>\n",
       "    <tr>\n",
       "      <th>krishna</th>\n",
       "      <td>99</td>\n",
       "      <td>80</td>\n",
       "      <td>99</td>\n",
       "    </tr>\n",
       "  </tbody>\n",
       "</table>\n",
       "</div>"
      ],
      "text/plain": [
       "         Phy  chem  Math\n",
       "aman      90    50    70\n",
       "ram       97    60    80\n",
       "rahul     98    70    90\n",
       "krishna   99    80    99"
      ]
     },
     "execution_count": 109,
     "metadata": {},
     "output_type": "execute_result"
    }
   ],
   "source": [
    "df.tail()"
   ]
  },
  {
   "cell_type": "code",
   "execution_count": null,
   "id": "077bdc8e-617f-44b2-8e13-2d727e287250",
   "metadata": {},
   "outputs": [],
   "source": []
  },
  {
   "cell_type": "code",
   "execution_count": 111,
   "id": "052a41ff-ae26-481a-8a73-10094ecc3bb1",
   "metadata": {},
   "outputs": [
    {
     "data": {
      "text/html": [
       "<div>\n",
       "<style scoped>\n",
       "    .dataframe tbody tr th:only-of-type {\n",
       "        vertical-align: middle;\n",
       "    }\n",
       "\n",
       "    .dataframe tbody tr th {\n",
       "        vertical-align: top;\n",
       "    }\n",
       "\n",
       "    .dataframe thead th {\n",
       "        text-align: right;\n",
       "    }\n",
       "</style>\n",
       "<table border=\"1\" class=\"dataframe\">\n",
       "  <thead>\n",
       "    <tr style=\"text-align: right;\">\n",
       "      <th></th>\n",
       "      <th>Phy</th>\n",
       "      <th>chem</th>\n",
       "      <th>Math</th>\n",
       "    </tr>\n",
       "  </thead>\n",
       "  <tbody>\n",
       "    <tr>\n",
       "      <th>aman</th>\n",
       "      <td>90</td>\n",
       "      <td>50</td>\n",
       "      <td>70</td>\n",
       "    </tr>\n",
       "    <tr>\n",
       "      <th>ram</th>\n",
       "      <td>97</td>\n",
       "      <td>60</td>\n",
       "      <td>80</td>\n",
       "    </tr>\n",
       "    <tr>\n",
       "      <th>rahul</th>\n",
       "      <td>98</td>\n",
       "      <td>70</td>\n",
       "      <td>90</td>\n",
       "    </tr>\n",
       "    <tr>\n",
       "      <th>krishna</th>\n",
       "      <td>99</td>\n",
       "      <td>80</td>\n",
       "      <td>99</td>\n",
       "    </tr>\n",
       "  </tbody>\n",
       "</table>\n",
       "</div>"
      ],
      "text/plain": [
       "         Phy  chem  Math\n",
       "aman      90    50    70\n",
       "ram       97    60    80\n",
       "rahul     98    70    90\n",
       "krishna   99    80    99"
      ]
     },
     "execution_count": 111,
     "metadata": {},
     "output_type": "execute_result"
    }
   ],
   "source": [
    "df.head()"
   ]
  },
  {
   "cell_type": "code",
   "execution_count": 127,
   "id": "34b01199-8d54-4b1a-9e8f-5a77a41b6bf3",
   "metadata": {},
   "outputs": [
    {
     "data": {
      "text/html": [
       "<div>\n",
       "<style scoped>\n",
       "    .dataframe tbody tr th:only-of-type {\n",
       "        vertical-align: middle;\n",
       "    }\n",
       "\n",
       "    .dataframe tbody tr th {\n",
       "        vertical-align: top;\n",
       "    }\n",
       "\n",
       "    .dataframe thead th {\n",
       "        text-align: right;\n",
       "    }\n",
       "</style>\n",
       "<table border=\"1\" class=\"dataframe\">\n",
       "  <thead>\n",
       "    <tr style=\"text-align: right;\">\n",
       "      <th></th>\n",
       "      <th>Phy</th>\n",
       "      <th>chem</th>\n",
       "      <th>Math</th>\n",
       "    </tr>\n",
       "  </thead>\n",
       "  <tbody>\n",
       "    <tr>\n",
       "      <th>krishna</th>\n",
       "      <td>99</td>\n",
       "      <td>80</td>\n",
       "      <td>99</td>\n",
       "    </tr>\n",
       "  </tbody>\n",
       "</table>\n",
       "</div>"
      ],
      "text/plain": [
       "         Phy  chem  Math\n",
       "krishna   99    80    99"
      ]
     },
     "execution_count": 127,
     "metadata": {},
     "output_type": "execute_result"
    }
   ],
   "source": [
    "df.iloc[3:4]"
   ]
  },
  {
   "cell_type": "code",
   "execution_count": 118,
   "id": "28d255c6-109f-4679-acde-75475c4281e3",
   "metadata": {},
   "outputs": [],
   "source": [
    "import matplotlib.pyplot as plt\n",
    "import numpy as np\n",
    "\n",
    "\n",
    "\n",
    "\n",
    "\n"
   ]
  },
  {
   "cell_type": "code",
   "execution_count": 145,
   "id": "182bb93b-6822-4739-a947-7207c805a2f3",
   "metadata": {},
   "outputs": [
    {
     "data": {
      "image/png": "[encoded data removed]",
      "text/plain": [
       "<Figure size 640x480 with 1 Axes>"
      ]
     },
     "metadata": {},
     "output_type": "display_data"
    }
   ],
   "source": [
    "x = np.linspace(-2, 2, 100)\n",
    "y = x ** 2\n",
    "\n",
    "plt.grid(True)\n",
    "\n",
    "\n",
    "#fig = plt.figure(figsize = (5, 5))\n",
    "plt.plot(x, y)\n",
    "plt.plot(x, x) \n",
    "plt.plot(x, x**2) \n",
    "plt.plot(x, x**3)\n",
    "\n",
    "y = x ** 3\n",
    "\n",
    "plt.show()"
   ]
  },
  {
   "cell_type": "code",
   "execution_count": null,
   "id": "b1686cdf-a09b-4903-85a9-04ed5ae76311",
   "metadata": {},
   "outputs": [],
   "source": []
  },
  {
   "cell_type": "code",
   "execution_count": null,
   "id": "597f2c3c-38f6-4a00-913b-26fe651e5b4b",
   "metadata": {},
   "outputs": [],
   "source": []
  },
  {
   "cell_type": "code",
   "execution_count": null,
   "id": "2bb42c67-52b1-41b7-af8c-2d9fc2c15a71",
   "metadata": {},
   "outputs": [],
   "source": []
  },
  {
   "cell_type": "code",
   "execution_count": null,
   "id": "101d8b0d-f37c-4278-bb3f-5a8dff400e12",
   "metadata": {},
   "outputs": [],
   "source": []
  },
  {
   "cell_type": "code",
   "execution_count": 175,
   "id": "e54b0227-264a-4232-8405-9f88a4c73c94",
   "metadata": {
    "scrolled": true
   },
   "outputs": [
    {
     "data": {
      "image/png": "[encoded data removed]",
      "text/plain": [
       "<Figure size 800x300 with 1 Axes>"
      ]
     },
     "metadata": {},
     "output_type": "display_data"
    }
   ],
   "source": [
    "x = np.linspace(0, 10, 100)\n",
    "y = np.sin(x)\n",
    "\n",
    "plt.figure(figsize=(8, 3))\n",
    "plt.plot(x, y,color=\"red\")\n",
    "plt.title('Sine Wave Plot')\n",
    "\n",
    "plt.grid(True)\n",
    "plt.show()"
   ]
  },
  {
   "cell_type": "code",
   "execution_count": 187,
   "id": "d22f3cd2-b9a3-4fcb-bf48-c74fabefd346",
   "metadata": {},
   "outputs": [
    {
     "data": {
      "image/png": "[encoded data removed]",
      "text/plain": [
       "<Figure size 1000x800 with 2 Axes>"
      ]
     },
     "metadata": {},
     "output_type": "display_data"
    }
   ],
   "source": [
    "\n",
    "x = np.linspace(0, 10, 100)\n",
    "y1 = np.sin(x)          \n",
    "y2 = np.sin(2 * x)      \n",
    "y3 = np.sin(0.5 * x)   \n",
    "\n",
    "plt.figure(figsize=(10, 8))\n",
    "\n",
    "plt.subplot(3, 1, 1)  \n",
    "plt.plot(x, y1, color='blue')\n",
    "plt.title('Sine Wave')\n",
    "\n",
    "plt.grid('true')\n",
    "plt.subplot(3, 1, 2)\n",
    "plt.plot(x, y2, color='red')\n",
    "plt.title('Sine Wave')\n",
    "\n",
    "plt.grid('true')\n",
    "\n",
    "plt.tight_layout()\n",
    "\n",
    "plt.style.use(\"Solarize_Light2\")\n",
    "plt.show()"
   ]
  },
  {
   "cell_type": "code",
   "execution_count": null,
   "id": "d1f67ae3-3f73-4e1d-8441-212e579783a5",
   "metadata": {},
   "outputs": [],
   "source": [
    "\n",
    "\n",
    "\n",
    "\n",
    "\n"
   ]
  },
  {
   "cell_type": "code",
   "execution_count": null,
   "id": "7cd05b0f-b4ff-4c17-a3da-edc53aa35084",
   "metadata": {},
   "outputs": [],
   "source": []
  },
  {
   "cell_type": "code",
   "execution_count": null,
   "id": "0cd92c73-7083-47a7-a993-24934a2c15b5",
   "metadata": {},
   "outputs": [],
   "source": []
  },
  {
   "cell_type": "code",
   "execution_count": null,
   "id": "72944de5-a0d6-4f15-8250-5b2ded94273b",
   "metadata": {},
   "outputs": [],
   "source": []
  },
  {
   "cell_type": "code",
   "execution_count": null,
   "id": "9b32036b-fd20-49cd-8ef4-2f2f733fe691",
   "metadata": {},
   "outputs": [],
   "source": []
  },
  {
   "cell_type": "code",
   "execution_count": null,
   "id": "1be9a14b-7375-4570-9172-3ef594c9adc0",
   "metadata": {},
   "outputs": [],
   "source": []
  },
  {
   "cell_type": "code",
   "execution_count": null,
   "id": "8a82d8b7-ba84-463f-9960-54392985432d",
   "metadata": {},
   "outputs": [],
   "source": []
  },
  {
   "cell_type": "code",
   "execution_count": null,
   "id": "38c70cc4-1304-416f-8588-c61ea3bc853f",
   "metadata": {},
   "outputs": [],
   "source": []
  },
  {
   "cell_type": "code",
   "execution_count": 211,
   "id": "9195f21d-6b69-40d3-8708-8b33ef47e3a3",
   "metadata": {},
   "outputs": [
    {
     "data": {
      "image/png": "[encoded data removed]",
      "text/plain": [
       "<Figure size 1000x600 with 1 Axes>"
      ]
     },
     "metadata": {},
     "output_type": "display_data"
    }
   ],
   "source": [
    "categories = ['1st Year', '2nd Year', '3rd Year']\n",
    "values = [66, 72, 85,]\n",
    "\n",
    "\n",
    "plt.style.use('grayscale')\n",
    "\n",
    "\n",
    "plt.figure(figsize=(10, 6))\n",
    "plt.bar(categories, values, color='skyblue')\n",
    "\n",
    "\n",
    "plt.title('Marks Bar Chart')\n",
    "plt.xlabel('Year')\n",
    "plt.ylabel('Marks')\n",
    "\n",
    "# Show the plot\n",
    "plt.show()\n"
   ]
  },
  {
   "cell_type": "code",
   "execution_count": null,
   "id": "f1e8298c-ab3e-4176-b2c3-4628afe4d98f",
   "metadata": {},
   "outputs": [],
   "source": []
  }
 ],
 "metadata": {
  "kernelspec": {
   "display_name": "Python [conda env:base] *",
   "language": "python",
   "name": "conda-base-py"
  },
  "language_info": {
   "codemirror_mode": {
    "name": "ipython",
    "version": 3
   },
   "file_extension": ".py",
   "mimetype": "text/x-python",
   "name": "python",
   "nbconvert_exporter": "python",
   "pygments_lexer": "ipython3",
   "version": "3.12.7"
  }
 },
 "nbformat": 4,
 "nbformat_minor": 5
}
